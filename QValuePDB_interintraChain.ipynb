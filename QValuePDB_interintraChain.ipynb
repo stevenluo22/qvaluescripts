{
 "cells": [
  {
   "cell_type": "code",
   "execution_count": 23,
   "id": "e0bc6671-0ebc-4667-b044-97f60f3f0841",
   "metadata": {},
   "outputs": [],
   "source": [
    "def Distance(Vec_1, Vec_2):\n",
    "    x1, y1, z1 = Vec_1\n",
    "    x2, y2, z2 = Vec_2\n",
    "    \n",
    "    xcont = (x2 - x1)**2\n",
    "    ycont = (y2 - y1)**2\n",
    "    zcont = (z2 - z1)**2\n",
    "    distance = np.sqrt(xcont + ycont + zcont)\n",
    "    return distance"
   ]
  },
  {
   "cell_type": "code",
   "execution_count": 24,
   "id": "7b6d8975-ae32-4978-9a75-34c1c858d1cf",
   "metadata": {},
   "outputs": [],
   "source": [
    "def TermQ(r_i, r_j, residue_i, residue_j):\n",
    "    numerator = (r_i - r_j)**2/100\n",
    "    Sigma_ij = 0.1*(abs(residue_i-residue_j)**0.15)\n",
    "    if Sigma_ij == 0:\n",
    "        return 0\n",
    "    termQ = np.exp(-numerator/(2*Sigma_ij**2))\n",
    "    return termQ"
   ]
  },
  {
   "cell_type": "code",
   "execution_count": 25,
   "id": "ee9e9654-f43e-418a-b0a3-2f79092f7039",
   "metadata": {},
   "outputs": [],
   "source": [
    "def CrossQ(coords_a, coords_b, name_ids, chain_ids, residue_ids):\n",
    "    Contact_Cutoff = 3\n",
    "    count_eligible_contact = 0\n",
    "    TotalQ = 0\n",
    "    for atom_i in range(len(coords_a)):\n",
    "        for atom_j in range(len(coords_b)):\n",
    "            if(name_ids[atom_i] == 'CA' and name_ids[atom_j] == 'CA'):\n",
    "                if(chain_ids[atom_i] != chain_ids[atom_j]):\n",
    "                    count_eligible_contact += 1\n",
    "                    Distance_a = Distance(coords_a[atom_i], coords_a[atom_j])\n",
    "                    Distance_b = Distance(coords_b[atom_i], coords_b[atom_j])\n",
    "                    TotalQ = TotalQ + TermQ(Distance_a, Distance_b, residue_ids[atom_i], residue_ids[atom_j])\n",
    "                    #print(TermQ(Distance_a, Distance_b, residue_ids[atom_i], residue_ids[atom_j]), Distance_a, Distance_b, residue_ids[atom_i], residue_ids[atom_j])\n",
    "                elif(abs(residue_ids[atom_i] - residue_ids[atom_j]) >= Contact_Cutoff):\n",
    "                    count_eligible_contact += 1\n",
    "                    Distance_a = Distance(coords_a[atom_i], coords_a[atom_j])\n",
    "                    Distance_b = Distance(coords_b[atom_i], coords_b[atom_j])\n",
    "                    TotalQ = TotalQ + TermQ(Distance_a, Distance_b, residue_ids[atom_i], residue_ids[atom_j])\n",
    "                    #print(TermQ(Distance_a, Distance_b, residue_ids[atom_i], residue_ids[atom_j]), Distance_a, Distance_b, residue_ids[atom_i], residue_ids[atom_j])\n",
    "    print(count_eligible_contact)\n",
    "    return TotalQ/count_eligible_contact"
   ]
  },
  {
   "cell_type": "code",
   "execution_count": 55,
   "id": "3125bf7b-4a7f-4282-b947-5bb1a9b45ac4",
   "metadata": {},
   "outputs": [],
   "source": [
    "def calculateQ(pathtoPDB1, pathtoPDB2):\n",
    "    # Load the first PDB file\n",
    "    structure_1 = pr.parsePDB(pathtoPDB1)\n",
    "\n",
    "    # Extract coordinates, residue names, and atom names for the first structure\n",
    "    coords_1 = structure_1.getCoords()  # numpy array of coordinates\n",
    "    residues_1 = structure_1.getResnums()  # residue names\n",
    "    atom_names_1 = structure_1.getNames()  # atom names\n",
    "    chains_1 = structure_1.getChids()\n",
    "\n",
    "    # Repeat for the second PDB file\n",
    "    structure_2 = pr.parsePDB(pathtoPDB2)\n",
    "\n",
    "    coords_2 = structure_2.getCoords()\n",
    "    residues_2 = structure_2.getResnums()\n",
    "    atom_names_2 = structure_2.getNames()\n",
    "    chains_2 = structure_2.getChids()\n",
    "\n",
    "    return CrossQ(coords_1, coords_2, atom_names_1, chains_1, residues_1)"
   ]
  },
  {
   "cell_type": "code",
   "execution_count": 56,
   "id": "86768fa1-fe85-4088-9bf9-5bf0a35463e6",
   "metadata": {},
   "outputs": [
    {
     "name": "stdout",
     "output_type": "stream",
     "text": [
      "3660\n"
     ]
    },
    {
     "data": {
      "text/plain": [
       "0.6615009133427886"
      ]
     },
     "execution_count": 56,
     "metadata": {},
     "output_type": "execute_result"
    }
   ],
   "source": [
    "import numpy as np\n",
    "import prody as pr\n",
    "\n",
    "# Load the first PDB file\n",
    "structure_1 = pr.parsePDB(\"1r69-ar1/1r69-openmmawsem.pdb\")\n",
    "\n",
    "# Extract coordinates, residue names, and atom names for the first structure\n",
    "coords_1 = structure_1.getCoords()  # numpy array of coordinates\n",
    "residues_1 = structure_1.getResnums()  # residue names\n",
    "atom_names_1 = structure_1.getNames()  # atom names\n",
    "chains_1 = structure_1.getChids()\n",
    "\n",
    "# Repeat for the second PDB file\n",
    "structure_2 = pr.parsePDB(\"1r69-ar1/Last_Frame.pdb\")\n",
    "\n",
    "coords_2 = structure_2.getCoords()\n",
    "residues_2 = structure_2.getResnums()\n",
    "atom_names_2 = structure_2.getNames()\n",
    "chains_2 = structure_2.getChids()\n",
    "\n",
    "CrossQ(coords_1, coords_2, atom_names_1, chains_1, residues_1)"
   ]
  },
  {
   "cell_type": "code",
   "execution_count": 57,
   "id": "a78c02b0-c4e5-4692-9a64-6a352f4de420",
   "metadata": {},
   "outputs": [
    {
     "name": "stderr",
     "output_type": "stream",
     "text": [
      "<>:8: SyntaxWarning: invalid escape sequence '\\s'\n",
      "<>:8: SyntaxWarning: invalid escape sequence '\\s'\n",
      "/tmp/ipykernel_1318840/285693129.py:8: SyntaxWarning: invalid escape sequence '\\s'\n",
      "  data = pd.read_csv(f'1r69-ar{i}/info.dat', sep='\\s+')\n"
     ]
    },
    {
     "name": "stdout",
     "output_type": "stream",
     "text": [
      "3660\n",
      "r1 control = 0.66 thisScript = 0.6615009133427886\n",
      "3660\n",
      "r2 control = 0.69 thisScript = 0.6907500967215979\n",
      "3660\n",
      "r3 control = 0.59 thisScript = 0.5883642847314872\n",
      "3660\n",
      "r4 control = 0.6 thisScript = 0.601220735972207\n",
      "3660\n",
      "r5 control = 0.64 thisScript = 0.638582584196604\n",
      "3660\n",
      "r6 control = 0.45 thisScript = 0.4528207333899382\n",
      "3660\n",
      "r7 control = 0.59 thisScript = 0.5914846315688832\n",
      "3660\n",
      "r8 control = 0.68 thisScript = 0.6813893885691918\n",
      "3660\n",
      "r9 control = 0.69 thisScript = 0.6853230561202974\n",
      "3660\n",
      "r10 control = 0.61 thisScript = 0.6096423526863622\n",
      "3660\n",
      "r11 control = 0.52 thisScript = 0.5194548531676875\n",
      "3660\n",
      "r12 control = 0.65 thisScript = 0.6489109021137098\n",
      "3660\n",
      "r13 control = 0.61 thisScript = 0.6139458588953322\n",
      "3660\n",
      "r14 control = 0.58 thisScript = 0.5841623034603669\n",
      "3660\n",
      "r15 control = 0.64 thisScript = 0.6442059883394775\n",
      "3660\n",
      "r16 control = 0.64 thisScript = 0.640940890218584\n"
     ]
    }
   ],
   "source": [
    "import numpy as np\n",
    "import prody as pr\n",
    "import pandas as pd\n",
    "\n",
    "pr.confProDy(verbosity='none')\n",
    "\n",
    "for i in range(1,17):\n",
    "    data = pd.read_csv(f'1r69-ar{i}/info.dat', sep='\\s+')\n",
    "    control = data['Q'].iloc[-1]\n",
    "    print(f'r{i}', f'control = {control}', f\"thisScript = {calculateQ(f'1r69-ar{i}/1r69-openmmawsem.pdb', f'1r69-ar{i}/Last_Frame.pdb')}\")"
   ]
  },
  {
   "cell_type": "code",
   "execution_count": null,
   "id": "ceabacc6-4b97-49ca-bac3-7ad12c275a14",
   "metadata": {},
   "outputs": [],
   "source": []
  }
 ],
 "metadata": {
  "kernelspec": {
   "display_name": "OpenMM8",
   "language": "python",
   "name": "openmm8"
  },
  "language_info": {
   "codemirror_mode": {
    "name": "ipython",
    "version": 3
   },
   "file_extension": ".py",
   "mimetype": "text/x-python",
   "name": "python",
   "nbconvert_exporter": "python",
   "pygments_lexer": "ipython3",
   "version": "3.12.3"
  }
 },
 "nbformat": 4,
 "nbformat_minor": 5
}
